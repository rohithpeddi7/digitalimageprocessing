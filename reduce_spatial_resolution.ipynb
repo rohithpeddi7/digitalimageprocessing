{
 "cells": [
  {
   "cell_type": "code",
   "execution_count": 1,
   "metadata": {},
   "outputs": [],
   "source": [
    "# cv2 for reading image data.\n",
    "import cv2\n",
    "import numpy as np\n",
    "import math"
   ]
  },
  {
   "cell_type": "code",
   "execution_count": 10,
   "metadata": {},
   "outputs": [
    {
     "name": "stdout",
     "output_type": "stream",
     "text": [
      "458 440 3\n"
     ]
    }
   ],
   "source": [
    "given_image = cv2.imread('grayscale1.png')\n",
    "# H is height, W is width and C is number of colour channels.\n",
    "H,W,C = given_image.shape\n",
    "print(H,W,C)"
   ]
  },
  {
   "cell_type": "code",
   "execution_count": 11,
   "metadata": {},
   "outputs": [],
   "source": [
    "temp = np.zeros((H//2,W//2,C))\n",
    "for c in range(C):\n",
    "    for i in range(H//2):\n",
    "        for j in range(W//2):\n",
    "            x_to_take, y_to_take = round(2*i),round(2*j)\n",
    "            temp[i][j][c] = given_image[x_to_take][y_to_take][c]\n",
    "\n",
    "new = np.zeros((H,W,C))\n",
    "for c in range(C):\n",
    "    for i in range(H):\n",
    "        for j in range(W):\n",
    "            x_to_take, y_to_take = i//2,j//2\n",
    "            new[i][j][c] = temp[x_to_take][y_to_take][c]\n"
   ]
  },
  {
   "cell_type": "code",
   "execution_count": 12,
   "metadata": {},
   "outputs": [
    {
     "data": {
      "text/plain": [
       "True"
      ]
     },
     "execution_count": 12,
     "metadata": {},
     "output_type": "execute_result"
    }
   ],
   "source": [
    "cv2.imwrite('redspr.png', new) "
   ]
  }
 ],
 "metadata": {
  "kernelspec": {
   "display_name": "Python 3",
   "language": "python",
   "name": "python3"
  },
  "language_info": {
   "codemirror_mode": {
    "name": "ipython",
    "version": 3
   },
   "file_extension": ".py",
   "mimetype": "text/x-python",
   "name": "python",
   "nbconvert_exporter": "python",
   "pygments_lexer": "ipython3",
   "version": "3.11.0"
  },
  "orig_nbformat": 4,
  "vscode": {
   "interpreter": {
    "hash": "c261aea317cc0286b3b3261fbba9abdec21eaa57589985bb7a274bf54d6cc0a7"
   }
  }
 },
 "nbformat": 4,
 "nbformat_minor": 2
}
