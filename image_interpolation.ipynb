{
 "cells": [
  {
   "attachments": {},
   "cell_type": "markdown",
   "metadata": {},
   "source": [
    "# Image Interpolation Experiment"
   ]
  },
  {
   "cell_type": "code",
   "execution_count": 1,
   "metadata": {},
   "outputs": [],
   "source": [
    "# cv2 for reading image data.\n",
    "import cv2\n",
    "import numpy as np\n",
    "import math"
   ]
  },
  {
   "cell_type": "code",
   "execution_count": 2,
   "metadata": {},
   "outputs": [
    {
     "name": "stdout",
     "output_type": "stream",
     "text": [
      "900 900 3\n"
     ]
    }
   ],
   "source": [
    "# Has 900x900 resolution. Lets make it 1250x1250\n",
    "given_image = cv2.imread('iitbhu_logo.jpg')\n",
    "# H is height, W is width and C is number of colour channels.\n",
    "H,W,C = given_image.shape\n",
    "print(H,W,C)"
   ]
  },
  {
   "attachments": {},
   "cell_type": "markdown",
   "metadata": {},
   "source": [
    "### Nearest Neighbour Interpolation"
   ]
  },
  {
   "cell_type": "code",
   "execution_count": 3,
   "metadata": {},
   "outputs": [],
   "source": [
    "logo_nni = np.zeros((1200,1200,C))\n",
    "for c in range(C):\n",
    "    for i in range(1200):\n",
    "        for j in range(1200):\n",
    "            x_to_take, y_to_take = round(i*H/1200),round(j*W/1200)\n",
    "            if x_to_take>=H:\n",
    "                x_to_take=H-1\n",
    "            if y_to_take>=W:\n",
    "                y_to_take=W-1\n",
    "            logo_nni[i][j][c] = given_image[x_to_take][y_to_take][c]\n"
   ]
  },
  {
   "cell_type": "code",
   "execution_count": 4,
   "metadata": {},
   "outputs": [
    {
     "data": {
      "text/plain": [
       "True"
      ]
     },
     "execution_count": 4,
     "metadata": {},
     "output_type": "execute_result"
    }
   ],
   "source": [
    "cv2.imwrite('logo_nni.png', logo_nni) "
   ]
  },
  {
   "attachments": {},
   "cell_type": "markdown",
   "metadata": {},
   "source": [
    "### Bilinear Interpolation"
   ]
  },
  {
   "cell_type": "code",
   "execution_count": 6,
   "metadata": {},
   "outputs": [
    {
     "data": {
      "text/plain": [
       "True"
      ]
     },
     "execution_count": 6,
     "metadata": {},
     "output_type": "execute_result"
    }
   ],
   "source": [
    "bilinear_logo = np.zeros((1200,1200,C))\n",
    "for i in range(1200):\n",
    "    for j in range(1200):\n",
    "        actual_x,actual_y = i*900/1200,j*900/1200\n",
    "        x1,x2,y1,y2 = math.floor(actual_x),math.ceil(actual_x),math.floor(actual_y),math.ceil(actual_y)\n",
    "        if x2>=H:\n",
    "            x2 = H-1\n",
    "        if y2>=W:\n",
    "            y2 = W-1\n",
    "        #Intermediate intensity for (x,y1)(i1) and (x,y2)(i2)\n",
    "        if x1!=x2:\n",
    "            i1 = (given_image[x1][y1][:]*(x2-actual_x) + given_image[x2][y1][:]*(actual_x-x1))\n",
    "            i2 = (given_image[x1][y2][:]*(x2-actual_x) + given_image[x2][y2][:]*(actual_x-x1))\n",
    "        else:\n",
    "            i1 = given_image[x1][y1][:]\n",
    "            i2 = given_image[x1][y2][:]\n",
    "        # Now again weighted sum.\n",
    "        if y1!=y2:\n",
    "            bilinear_logo[i][j][:] = (i1*(y2-actual_y)+i2*(actual_y-y1))\n",
    "        else:\n",
    "            bilinear_logo[i][j][:] = i1\n",
    "\n",
    "cv2.imwrite('logo_bli.png',bilinear_logo)"
   ]
  }
 ],
 "metadata": {
  "kernelspec": {
   "display_name": "Python 3",
   "language": "python",
   "name": "python3"
  },
  "language_info": {
   "codemirror_mode": {
    "name": "ipython",
    "version": 3
   },
   "file_extension": ".py",
   "mimetype": "text/x-python",
   "name": "python",
   "nbconvert_exporter": "python",
   "pygments_lexer": "ipython3",
   "version": "3.11.0"
  },
  "orig_nbformat": 4,
  "vscode": {
   "interpreter": {
    "hash": "c261aea317cc0286b3b3261fbba9abdec21eaa57589985bb7a274bf54d6cc0a7"
   }
  }
 },
 "nbformat": 4,
 "nbformat_minor": 2
}
