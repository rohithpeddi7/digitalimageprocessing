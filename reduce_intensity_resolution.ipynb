{
 "cells": [
  {
   "cell_type": "code",
   "execution_count": 1,
   "metadata": {},
   "outputs": [],
   "source": [
    "# cv2 for reading image data.\n",
    "import cv2\n",
    "import numpy as np\n",
    "import math"
   ]
  },
  {
   "cell_type": "code",
   "execution_count": 2,
   "metadata": {},
   "outputs": [
    {
     "name": "stdout",
     "output_type": "stream",
     "text": [
      "458 440 3\n"
     ]
    }
   ],
   "source": [
    "given_image = cv2.imread('grayscale1.png')\n",
    "# H is height, W is width and C is number of colour channels.\n",
    "H,W,C = given_image.shape\n",
    "print(H,W,C)"
   ]
  },
  {
   "cell_type": "code",
   "execution_count": 6,
   "metadata": {},
   "outputs": [
    {
     "data": {
      "text/plain": [
       "True"
      ]
     },
     "execution_count": 6,
     "metadata": {},
     "output_type": "execute_result"
    }
   ],
   "source": [
    "new_grayscale_image = np.zeros((H,W,C))\n",
    "for i in range(H):\n",
    "    for j in range(W):\n",
    "        present = given_image[i][j][0]\n",
    "        if present-present//16*16>8:\n",
    "            new = (present//16+1)*16\n",
    "            if new>=256:\n",
    "                new=255\n",
    "            new_grayscale_image[i][j][:]=[new]*3\n",
    "        else:\n",
    "            new = (present//16)*16\n",
    "            if new>=256:\n",
    "                new=255\n",
    "            new_grayscale_image[i][j][:]=[new]*3\n",
    "cv2.imwrite('grayscale2.png',new_grayscale_image)"
   ]
  }
 ],
 "metadata": {
  "kernelspec": {
   "display_name": "Python 3",
   "language": "python",
   "name": "python3"
  },
  "language_info": {
   "codemirror_mode": {
    "name": "ipython",
    "version": 3
   },
   "file_extension": ".py",
   "mimetype": "text/x-python",
   "name": "python",
   "nbconvert_exporter": "python",
   "pygments_lexer": "ipython3",
   "version": "3.11.0"
  },
  "orig_nbformat": 4,
  "vscode": {
   "interpreter": {
    "hash": "c261aea317cc0286b3b3261fbba9abdec21eaa57589985bb7a274bf54d6cc0a7"
   }
  }
 },
 "nbformat": 4,
 "nbformat_minor": 2
}
